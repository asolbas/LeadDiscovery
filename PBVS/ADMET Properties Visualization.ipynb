{
 "cells": [
  {
   "cell_type": "markdown",
   "metadata": {
    "id": "viIBKH9UiREM"
   },
   "source": [
    "## Calculation of ADMET properties\n",
    "\n",
    "*Author: Ana Solbas Casajús*\n",
    "*Date: 30th December, 2022*\n",
    "*Description of code* : Calculation of ADMET properties in databases before and after Pharmacore-based Ligand Based Screening"
   ]
  },
  {
   "cell_type": "code",
   "execution_count": 1,
   "metadata": {
    "colab": {
     "base_uri": "https://localhost:8080/"
    },
    "executionInfo": {
     "elapsed": 16290,
     "status": "ok",
     "timestamp": 1670953146790,
     "user": {
      "displayName": "Natalia Garcia",
      "userId": "02135217943488417203"
     },
     "user_tz": -60
    },
    "id": "idgpXboCiREQ",
    "outputId": "986db476-070c-44f9-facf-f811f2635a64"
   },
   "outputs": [
    {
     "name": "stdout",
     "output_type": "stream",
     "text": [
      "Requirement already satisfied: rdkit-pypi in c:\\users\\anaso\\anaconda3\\lib\\site-packages (2022.9.1)\n",
      "Requirement already satisfied: numpy in c:\\users\\anaso\\anaconda3\\lib\\site-packages (from rdkit-pypi) (1.21.5)\n",
      "Requirement already satisfied: Pillow in c:\\users\\anaso\\anaconda3\\lib\\site-packages (from rdkit-pypi) (9.0.1)\n"
     ]
    }
   ],
   "source": [
    "# Install RDKit. \n",
    "!pip install rdkit-pypi"
   ]
  },
  {
   "cell_type": "code",
   "execution_count": 2,
   "metadata": {
    "id": "MCLHU5cGiRER"
   },
   "outputs": [],
   "source": [
    "from pathlib import Path\n",
    "import math\n",
    "import numpy as np\n",
    "import pandas as pd\n",
    "import matplotlib.pyplot as plt\n",
    "from matplotlib.lines import Line2D\n",
    "import matplotlib.patches as mpatches\n",
    "from rdkit import Chem\n",
    "from rdkit.Chem import Descriptors, Draw, PandasTools"
   ]
  },
  {
   "cell_type": "code",
   "execution_count": 5,
   "metadata": {
    "colab": {
     "base_uri": "https://localhost:8080/",
     "height": 468
    },
    "executionInfo": {
     "elapsed": 583,
     "status": "ok",
     "timestamp": 1670953313323,
     "user": {
      "displayName": "Natalia Garcia",
      "userId": "02135217943488417203"
     },
     "user_tz": -60
    },
    "id": "rL8snCFRiRES",
    "outputId": "3b14db15-a4b6-43d4-d3ae-c36db2348a37",
    "scrolled": false
   },
   "outputs": [
    {
     "data": {
      "text/html": [
       "<div>\n",
       "<style scoped>\n",
       "    .dataframe tbody tr th:only-of-type {\n",
       "        vertical-align: middle;\n",
       "    }\n",
       "\n",
       "    .dataframe tbody tr th {\n",
       "        vertical-align: top;\n",
       "    }\n",
       "\n",
       "    .dataframe thead th {\n",
       "        text-align: right;\n",
       "    }\n",
       "</style>\n",
       "<table border=\"1\" class=\"dataframe\">\n",
       "  <thead>\n",
       "    <tr style=\"text-align: right;\">\n",
       "      <th></th>\n",
       "      <th>rmsd</th>\n",
       "      <th>ID</th>\n",
       "      <th>smiles</th>\n",
       "    </tr>\n",
       "  </thead>\n",
       "  <tbody>\n",
       "    <tr>\n",
       "      <th>0</th>\n",
       "      <td>0.600831091</td>\n",
       "      <td>CHEMBL4285366</td>\n",
       "      <td>CN(c1ncnc2[nH]ccc12)[C@H]1CN(C(=O)c2ccncc2)CC1...</td>\n",
       "    </tr>\n",
       "    <tr>\n",
       "      <th>1</th>\n",
       "      <td>0.590329766</td>\n",
       "      <td>CHEMBL4293188</td>\n",
       "      <td>CN(c1ncnc2[nH]ccc12)[C@H]1CN(C(=O)c2cccc(C#N)c...</td>\n",
       "    </tr>\n",
       "    <tr>\n",
       "      <th>2</th>\n",
       "      <td>0.594331205</td>\n",
       "      <td>CHEMBL4290647</td>\n",
       "      <td>CN(c1ncnc2[nH]ccc12)[C@H]1CN(C(=O)c2ccccc2)CC1...</td>\n",
       "    </tr>\n",
       "    <tr>\n",
       "      <th>3</th>\n",
       "      <td>0.578193605</td>\n",
       "      <td>CHEMBL4292627</td>\n",
       "      <td>CN(c1ncnc2[nH]ccc12)[C@H]1CN(C(=O)c2ccc(C#N)cc...</td>\n",
       "    </tr>\n",
       "    <tr>\n",
       "      <th>4</th>\n",
       "      <td>0.180277705</td>\n",
       "      <td>CHEMBL1630793</td>\n",
       "      <td>C[C@H]1CCN(C(=O)[C@@H]2CCN(Cc3ccccc3)C2=O)C[C@...</td>\n",
       "    </tr>\n",
       "    <tr>\n",
       "      <th>5</th>\n",
       "      <td>0.296290427</td>\n",
       "      <td>CHEMBL1630796</td>\n",
       "      <td>C[C@H]1CCN(C(=O)c2ccsc2)C[C@@H]1N(C)c1ncnc2[nH...</td>\n",
       "    </tr>\n",
       "    <tr>\n",
       "      <th>6</th>\n",
       "      <td>0.194998249</td>\n",
       "      <td>CHEMBL3693610</td>\n",
       "      <td>N#Cc1cccc(C(=O)N2CCC[C@@]23CCN(c2ncnc4[nH]ccc2...</td>\n",
       "    </tr>\n",
       "    <tr>\n",
       "      <th>7</th>\n",
       "      <td>0.265372008</td>\n",
       "      <td>CHEMBL3693611</td>\n",
       "      <td>N#Cc1ccc(C(=O)N2CCC[C@]23CCN(c2ncnc4[nH]ccc24)...</td>\n",
       "    </tr>\n",
       "    <tr>\n",
       "      <th>8</th>\n",
       "      <td>0.602706969</td>\n",
       "      <td>CHEMBL4280010</td>\n",
       "      <td>CN(c1ncnc2[nH]ccc12)[C@H]1CN(C(=O)c2cccnc2)CC1...</td>\n",
       "    </tr>\n",
       "    <tr>\n",
       "      <th>9</th>\n",
       "      <td>0.303494632</td>\n",
       "      <td>CHEMBL3718794</td>\n",
       "      <td>C[C@@H]1C[C@H](C)CN(c2ncnc3[nH]c4ccc(C(N)=O)cc...</td>\n",
       "    </tr>\n",
       "    <tr>\n",
       "      <th>10</th>\n",
       "      <td>0.304041654</td>\n",
       "      <td>CHEMBL3719102</td>\n",
       "      <td>C[C@H]1CCCN(c2ncnc3[nH]c4ccc(C(N)=O)cc4c23)C1</td>\n",
       "    </tr>\n",
       "    <tr>\n",
       "      <th>11</th>\n",
       "      <td>0.304120153</td>\n",
       "      <td>CHEMBL3715588</td>\n",
       "      <td>NC(=O)c1ccc2[nH]c3ncnc(N4CCCCC4)c3c2c1</td>\n",
       "    </tr>\n",
       "    <tr>\n",
       "      <th>12</th>\n",
       "      <td>0.304120153</td>\n",
       "      <td>CHEMBL3719354</td>\n",
       "      <td>NC(=O)c1ccc2[nH]c3ncnc(N4CCCCC4)c3c2c1</td>\n",
       "    </tr>\n",
       "    <tr>\n",
       "      <th>13</th>\n",
       "      <td>0.304292321</td>\n",
       "      <td>CHEMBL3716162</td>\n",
       "      <td>CC1CCN(c2ncnc3[nH]c4ccc(C(N)=O)cc4c23)CC1</td>\n",
       "    </tr>\n",
       "    <tr>\n",
       "      <th>14</th>\n",
       "      <td>0.305349827</td>\n",
       "      <td>CHEMBL3715037</td>\n",
       "      <td>CC[C@@H]1CCCCN1c1ncnc2[nH]c3ccc(C(N)=O)cc3c12</td>\n",
       "    </tr>\n",
       "    <tr>\n",
       "      <th>15</th>\n",
       "      <td>0.303964913</td>\n",
       "      <td>CHEMBL3715974</td>\n",
       "      <td>NC(=O)c1ccc2[nH]c3ncnc(N4CCCCCC4)c3c2c1</td>\n",
       "    </tr>\n",
       "    <tr>\n",
       "      <th>16</th>\n",
       "      <td>0.716837764</td>\n",
       "      <td>CHEMBL3356065</td>\n",
       "      <td>Cc1c[nH]c2ncnc(N3CCN(C(=O)Cc4ccccc4)[C@@H](C)C...</td>\n",
       "    </tr>\n",
       "    <tr>\n",
       "      <th>17</th>\n",
       "      <td>0.0499757379</td>\n",
       "      <td>CHEMBL1630790</td>\n",
       "      <td>C[C@@H]1CCN(Cc2cccc(F)c2F)C[C@@H]1N(C)c1ncnc2[...</td>\n",
       "    </tr>\n",
       "    <tr>\n",
       "      <th>18</th>\n",
       "      <td>0.524958014</td>\n",
       "      <td>CHEMBL4167162</td>\n",
       "      <td>O=C(CN1CCCC1)Nc1ccc2ncnc(Nc3ccc(Cl)cc3)c2c1</td>\n",
       "    </tr>\n",
       "    <tr>\n",
       "      <th>19</th>\n",
       "      <td>0.111908242</td>\n",
       "      <td>CHEMBL4649816</td>\n",
       "      <td>O=C1C[C@H](Nc2ncnc3nc[nH]c23)CN1Cc1ccccc1</td>\n",
       "    </tr>\n",
       "    <tr>\n",
       "      <th>20</th>\n",
       "      <td>0.37469548</td>\n",
       "      <td>CHEMBL3393349</td>\n",
       "      <td>CN1CCN(c2ncnc3[nH]cc(-c4cccc(C#N)c4)c23)CC1</td>\n",
       "    </tr>\n",
       "    <tr>\n",
       "      <th>21</th>\n",
       "      <td>0.303525627</td>\n",
       "      <td>CHEMBL3715062</td>\n",
       "      <td>CCCN(CCC)c1ncnc2[nH]c3ccc(C(N)=O)cc3c12</td>\n",
       "    </tr>\n",
       "    <tr>\n",
       "      <th>22</th>\n",
       "      <td>0.303962469</td>\n",
       "      <td>CHEMBL3717493</td>\n",
       "      <td>NC(=O)c1ccc2[nH]c3nc(N)nc(N4CCCCC4)c3c2c1</td>\n",
       "    </tr>\n",
       "    <tr>\n",
       "      <th>23</th>\n",
       "      <td>0.303946197</td>\n",
       "      <td>CHEMBL3716812</td>\n",
       "      <td>Cc1nc(N2CCCCC2)c2c(n1)[nH]c1ccc(C(N)=O)cc12</td>\n",
       "    </tr>\n",
       "    <tr>\n",
       "      <th>24</th>\n",
       "      <td>0.158179834</td>\n",
       "      <td>CHEMBL258838</td>\n",
       "      <td>CN1CCC2(CC1)CN(c1ncnc3[nH]ccc13)c1ccccc12</td>\n",
       "    </tr>\n",
       "    <tr>\n",
       "      <th>25</th>\n",
       "      <td>0.31873554</td>\n",
       "      <td>CHEMBL4448573</td>\n",
       "      <td>O=C(Nc1cccc([C@H]2CCCN(c3ncnc4[nH]ccc34)C2)c1)...</td>\n",
       "    </tr>\n",
       "    <tr>\n",
       "      <th>26</th>\n",
       "      <td>0.455076814</td>\n",
       "      <td>CHEMBL4545883</td>\n",
       "      <td>C[C@@H]1CCCCN1CC(C)(C)Nc1nc(-c2ccncc2)nc2cnccc12</td>\n",
       "    </tr>\n",
       "    <tr>\n",
       "      <th>27</th>\n",
       "      <td>0.304201901</td>\n",
       "      <td>CHEMBL3715766</td>\n",
       "      <td>COC(=O)c1ccc2[nH]c3nc(C)nc(N4CCCCC4)c3c2c1</td>\n",
       "    </tr>\n",
       "    <tr>\n",
       "      <th>28</th>\n",
       "      <td>0.320885867</td>\n",
       "      <td>CHEMBL3669559</td>\n",
       "      <td>O=C1N(Cc2c[nH]c3ccccc23)CCCC12CCN(c1ncnc3[nH]c...</td>\n",
       "    </tr>\n",
       "    <tr>\n",
       "      <th>29</th>\n",
       "      <td>0.373025686</td>\n",
       "      <td>CHEMBL3393341</td>\n",
       "      <td>C[C@H]1CCCN(c2ncnc3[nH]cc(-c4cccc(C#N)c4)c23)C1</td>\n",
       "    </tr>\n",
       "    <tr>\n",
       "      <th>30</th>\n",
       "      <td>0.528697848</td>\n",
       "      <td>CHEMBL2152300</td>\n",
       "      <td>N#CCC(=O)N1CCC[C@@H](n2cnc3cnc4[nH]ccc4c32)C1</td>\n",
       "    </tr>\n",
       "    <tr>\n",
       "      <th>31</th>\n",
       "      <td>0.626891732</td>\n",
       "      <td>CHEMBL2314501</td>\n",
       "      <td>CN1CCCN(c2nc(N)nc3[nH]c(-c4ccccc4)cc23)CC1</td>\n",
       "    </tr>\n",
       "    <tr>\n",
       "      <th>32</th>\n",
       "      <td>0.372293442</td>\n",
       "      <td>CHEMBL3393342</td>\n",
       "      <td>C[C@@H]1CCCN(c2ncnc3[nH]cc(-c4cccc(C#N)c4)c23)C1</td>\n",
       "    </tr>\n",
       "    <tr>\n",
       "      <th>33</th>\n",
       "      <td>0.340848774</td>\n",
       "      <td>CHEMBL4468002</td>\n",
       "      <td>O=C(Nc1cccnc1)Nc1cccc([C@H]2CCCN(c3ncnc4[nH]cc...</td>\n",
       "    </tr>\n",
       "    <tr>\n",
       "      <th>34</th>\n",
       "      <td>0.761379421</td>\n",
       "      <td>CHEMBL585734</td>\n",
       "      <td>Cc1c[nH]c2ncnc(N3CCN(/C(=N/C#N)Nc4cccc(C(=O)NC...</td>\n",
       "    </tr>\n",
       "    <tr>\n",
       "      <th>35</th>\n",
       "      <td>0.699363828</td>\n",
       "      <td>CHEMBL3593766</td>\n",
       "      <td>NC(=O)c1cnc2[nH]ccc2c1N[C@@H]1CCCN(Cc2ccccc2)C1</td>\n",
       "    </tr>\n",
       "    <tr>\n",
       "      <th>36</th>\n",
       "      <td>0.273326337</td>\n",
       "      <td>CHEMBL4460419</td>\n",
       "      <td>O=C(Nc1cccc([C@H]2CCCN(c3ncnc4[nH]ccc34)C2)c1)...</td>\n",
       "    </tr>\n",
       "    <tr>\n",
       "      <th>37</th>\n",
       "      <td>0.45043236</td>\n",
       "      <td>CHEMBL78377</td>\n",
       "      <td>Cc1[nH]c2nc(-c3ccccc3)nc(NCCCN3CCCC3=O)c2c1C</td>\n",
       "    </tr>\n",
       "  </tbody>\n",
       "</table>\n",
       "</div>"
      ],
      "text/plain": [
       "            rmsd             ID  \\\n",
       "0    0.600831091  CHEMBL4285366   \n",
       "1    0.590329766  CHEMBL4293188   \n",
       "2    0.594331205  CHEMBL4290647   \n",
       "3    0.578193605  CHEMBL4292627   \n",
       "4    0.180277705  CHEMBL1630793   \n",
       "5    0.296290427  CHEMBL1630796   \n",
       "6    0.194998249  CHEMBL3693610   \n",
       "7    0.265372008  CHEMBL3693611   \n",
       "8    0.602706969  CHEMBL4280010   \n",
       "9    0.303494632  CHEMBL3718794   \n",
       "10   0.304041654  CHEMBL3719102   \n",
       "11   0.304120153  CHEMBL3715588   \n",
       "12   0.304120153  CHEMBL3719354   \n",
       "13   0.304292321  CHEMBL3716162   \n",
       "14   0.305349827  CHEMBL3715037   \n",
       "15   0.303964913  CHEMBL3715974   \n",
       "16   0.716837764  CHEMBL3356065   \n",
       "17  0.0499757379  CHEMBL1630790   \n",
       "18   0.524958014  CHEMBL4167162   \n",
       "19   0.111908242  CHEMBL4649816   \n",
       "20    0.37469548  CHEMBL3393349   \n",
       "21   0.303525627  CHEMBL3715062   \n",
       "22   0.303962469  CHEMBL3717493   \n",
       "23   0.303946197  CHEMBL3716812   \n",
       "24   0.158179834   CHEMBL258838   \n",
       "25    0.31873554  CHEMBL4448573   \n",
       "26   0.455076814  CHEMBL4545883   \n",
       "27   0.304201901  CHEMBL3715766   \n",
       "28   0.320885867  CHEMBL3669559   \n",
       "29   0.373025686  CHEMBL3393341   \n",
       "30   0.528697848  CHEMBL2152300   \n",
       "31   0.626891732  CHEMBL2314501   \n",
       "32   0.372293442  CHEMBL3393342   \n",
       "33   0.340848774  CHEMBL4468002   \n",
       "34   0.761379421   CHEMBL585734   \n",
       "35   0.699363828  CHEMBL3593766   \n",
       "36   0.273326337  CHEMBL4460419   \n",
       "37    0.45043236    CHEMBL78377   \n",
       "\n",
       "                                               smiles  \n",
       "0   CN(c1ncnc2[nH]ccc12)[C@H]1CN(C(=O)c2ccncc2)CC1...  \n",
       "1   CN(c1ncnc2[nH]ccc12)[C@H]1CN(C(=O)c2cccc(C#N)c...  \n",
       "2   CN(c1ncnc2[nH]ccc12)[C@H]1CN(C(=O)c2ccccc2)CC1...  \n",
       "3   CN(c1ncnc2[nH]ccc12)[C@H]1CN(C(=O)c2ccc(C#N)cc...  \n",
       "4   C[C@H]1CCN(C(=O)[C@@H]2CCN(Cc3ccccc3)C2=O)C[C@...  \n",
       "5   C[C@H]1CCN(C(=O)c2ccsc2)C[C@@H]1N(C)c1ncnc2[nH...  \n",
       "6   N#Cc1cccc(C(=O)N2CCC[C@@]23CCN(c2ncnc4[nH]ccc2...  \n",
       "7   N#Cc1ccc(C(=O)N2CCC[C@]23CCN(c2ncnc4[nH]ccc24)...  \n",
       "8   CN(c1ncnc2[nH]ccc12)[C@H]1CN(C(=O)c2cccnc2)CC1...  \n",
       "9   C[C@@H]1C[C@H](C)CN(c2ncnc3[nH]c4ccc(C(N)=O)cc...  \n",
       "10      C[C@H]1CCCN(c2ncnc3[nH]c4ccc(C(N)=O)cc4c23)C1  \n",
       "11             NC(=O)c1ccc2[nH]c3ncnc(N4CCCCC4)c3c2c1  \n",
       "12             NC(=O)c1ccc2[nH]c3ncnc(N4CCCCC4)c3c2c1  \n",
       "13          CC1CCN(c2ncnc3[nH]c4ccc(C(N)=O)cc4c23)CC1  \n",
       "14      CC[C@@H]1CCCCN1c1ncnc2[nH]c3ccc(C(N)=O)cc3c12  \n",
       "15            NC(=O)c1ccc2[nH]c3ncnc(N4CCCCCC4)c3c2c1  \n",
       "16  Cc1c[nH]c2ncnc(N3CCN(C(=O)Cc4ccccc4)[C@@H](C)C...  \n",
       "17  C[C@@H]1CCN(Cc2cccc(F)c2F)C[C@@H]1N(C)c1ncnc2[...  \n",
       "18        O=C(CN1CCCC1)Nc1ccc2ncnc(Nc3ccc(Cl)cc3)c2c1  \n",
       "19          O=C1C[C@H](Nc2ncnc3nc[nH]c23)CN1Cc1ccccc1  \n",
       "20        CN1CCN(c2ncnc3[nH]cc(-c4cccc(C#N)c4)c23)CC1  \n",
       "21            CCCN(CCC)c1ncnc2[nH]c3ccc(C(N)=O)cc3c12  \n",
       "22          NC(=O)c1ccc2[nH]c3nc(N)nc(N4CCCCC4)c3c2c1  \n",
       "23        Cc1nc(N2CCCCC2)c2c(n1)[nH]c1ccc(C(N)=O)cc12  \n",
       "24          CN1CCC2(CC1)CN(c1ncnc3[nH]ccc13)c1ccccc12  \n",
       "25  O=C(Nc1cccc([C@H]2CCCN(c3ncnc4[nH]ccc34)C2)c1)...  \n",
       "26   C[C@@H]1CCCCN1CC(C)(C)Nc1nc(-c2ccncc2)nc2cnccc12  \n",
       "27         COC(=O)c1ccc2[nH]c3nc(C)nc(N4CCCCC4)c3c2c1  \n",
       "28  O=C1N(Cc2c[nH]c3ccccc23)CCCC12CCN(c1ncnc3[nH]c...  \n",
       "29    C[C@H]1CCCN(c2ncnc3[nH]cc(-c4cccc(C#N)c4)c23)C1  \n",
       "30      N#CCC(=O)N1CCC[C@@H](n2cnc3cnc4[nH]ccc4c32)C1  \n",
       "31         CN1CCCN(c2nc(N)nc3[nH]c(-c4ccccc4)cc23)CC1  \n",
       "32   C[C@@H]1CCCN(c2ncnc3[nH]cc(-c4cccc(C#N)c4)c23)C1  \n",
       "33  O=C(Nc1cccnc1)Nc1cccc([C@H]2CCCN(c3ncnc4[nH]cc...  \n",
       "34  Cc1c[nH]c2ncnc(N3CCN(/C(=N/C#N)Nc4cccc(C(=O)NC...  \n",
       "35    NC(=O)c1cnc2[nH]ccc2c1N[C@@H]1CCCN(Cc2ccccc2)C1  \n",
       "36  O=C(Nc1cccc([C@H]2CCCN(c3ncnc4[nH]ccc34)C2)c1)...  \n",
       "37       Cc1[nH]c2nc(-c3ccccc3)nc(NCCCN3CCCC3=O)c2c1C  "
      ]
     },
     "execution_count": 5,
     "metadata": {},
     "output_type": "execute_result"
    }
   ],
   "source": [
    "#Transform sdf file in csv\n",
    "\n",
    "path = './query_results_J12_4.sdf'\n",
    "\n",
    "sdfdatabase = path\n",
    "#sdfdatabase = 'pharmacore_screening_results.sdf'\n",
    "MoleculeDatabase = PandasTools.LoadSDF(sdfdatabase, embedProps=True, molColName=None, smilesName='smiles')\n",
    "MoleculeDatabase"
   ]
  },
  {
   "cell_type": "markdown",
   "metadata": {
    "id": "egTweduaiRET"
   },
   "source": [
    "\n",
    "\n",
    "## Calculate and plot molecular properties for Ro5 (Rule of five)"
   ]
  },
  {
   "cell_type": "markdown",
   "metadata": {
    "id": "MEBVE2AdiRET"
   },
   "source": [
    "Apply the Ro5 to all molecules"
   ]
  },
  {
   "cell_type": "code",
   "execution_count": 6,
   "metadata": {
    "id": "dY5NbbyRiREU"
   },
   "outputs": [],
   "source": [
    "def calculate_ro5_properties(smiles):\n",
    "    \"\"\"\n",
    "    Test if input molecule (SMILES) fulfills Lipinski's rule of five.\n",
    "\n",
    "    \"\"\"\n",
    "    # RDKit molecule from SMILES\n",
    "    molecule = Chem.MolFromSmiles(smiles)\n",
    "    # Calculate Ro5-relevant chemical properties\n",
    "    molecular_weight = Descriptors.ExactMolWt(molecule)\n",
    "    n_hba = Descriptors.NumHAcceptors(molecule)\n",
    "    n_hbd = Descriptors.NumHDonors(molecule)\n",
    "    logp = Descriptors.MolLogP(molecule)\n",
    "    TPSA = Descriptors.TPSA (molecule)\n",
    "    # Check if Ro5 conditions fulfilled\n",
    "    conditions = [molecular_weight <= 500, n_hba <= 10, n_hbd <= 5, logp <= 5, TPSA < 140]\n",
    "    ro5_fulfilled = sum(conditions) > 4\n",
    "    # Return True if no more than one out of four conditions is violated\n",
    "    return pd.Series(\n",
    "        [molecular_weight, n_hba, n_hbd, logp, TPSA, ro5_fulfilled],\n",
    "        index=[\"molecular_weight\", \"n_hba\", \"n_hbd\", \"logp\", \"TPSA\", \"ro5_fulfilled\"],\n",
    "    )"
   ]
  },
  {
   "cell_type": "code",
   "execution_count": 7,
   "metadata": {
    "colab": {
     "base_uri": "https://localhost:8080/",
     "height": 206
    },
    "executionInfo": {
     "elapsed": 6,
     "status": "ok",
     "timestamp": 1670953329479,
     "user": {
      "displayName": "Natalia Garcia",
      "userId": "02135217943488417203"
     },
     "user_tz": -60
    },
    "id": "60R-yYSsiREV",
    "outputId": "394de1b2-18cd-44e2-9fef-ed038bf73b8f"
   },
   "outputs": [
    {
     "data": {
      "text/html": [
       "<div>\n",
       "<style scoped>\n",
       "    .dataframe tbody tr th:only-of-type {\n",
       "        vertical-align: middle;\n",
       "    }\n",
       "\n",
       "    .dataframe tbody tr th {\n",
       "        vertical-align: top;\n",
       "    }\n",
       "\n",
       "    .dataframe thead th {\n",
       "        text-align: right;\n",
       "    }\n",
       "</style>\n",
       "<table border=\"1\" class=\"dataframe\">\n",
       "  <thead>\n",
       "    <tr style=\"text-align: right;\">\n",
       "      <th></th>\n",
       "      <th>molecular_weight</th>\n",
       "      <th>n_hba</th>\n",
       "      <th>n_hbd</th>\n",
       "      <th>logp</th>\n",
       "      <th>TPSA</th>\n",
       "      <th>ro5_fulfilled</th>\n",
       "    </tr>\n",
       "  </thead>\n",
       "  <tbody>\n",
       "    <tr>\n",
       "      <th>0</th>\n",
       "      <td>348.169859</td>\n",
       "      <td>5</td>\n",
       "      <td>1</td>\n",
       "      <td>2.09390</td>\n",
       "      <td>78.01</td>\n",
       "      <td>True</td>\n",
       "    </tr>\n",
       "    <tr>\n",
       "      <th>1</th>\n",
       "      <td>372.169859</td>\n",
       "      <td>5</td>\n",
       "      <td>1</td>\n",
       "      <td>2.57058</td>\n",
       "      <td>88.91</td>\n",
       "      <td>True</td>\n",
       "    </tr>\n",
       "    <tr>\n",
       "      <th>2</th>\n",
       "      <td>347.174610</td>\n",
       "      <td>4</td>\n",
       "      <td>1</td>\n",
       "      <td>2.69890</td>\n",
       "      <td>65.12</td>\n",
       "      <td>True</td>\n",
       "    </tr>\n",
       "    <tr>\n",
       "      <th>3</th>\n",
       "      <td>372.169859</td>\n",
       "      <td>5</td>\n",
       "      <td>1</td>\n",
       "      <td>2.57058</td>\n",
       "      <td>88.91</td>\n",
       "      <td>True</td>\n",
       "    </tr>\n",
       "    <tr>\n",
       "      <th>4</th>\n",
       "      <td>446.243024</td>\n",
       "      <td>5</td>\n",
       "      <td>1</td>\n",
       "      <td>2.67980</td>\n",
       "      <td>85.43</td>\n",
       "      <td>True</td>\n",
       "    </tr>\n",
       "  </tbody>\n",
       "</table>\n",
       "</div>"
      ],
      "text/plain": [
       "   molecular_weight  n_hba  n_hbd     logp   TPSA  ro5_fulfilled\n",
       "0        348.169859      5      1  2.09390  78.01           True\n",
       "1        372.169859      5      1  2.57058  88.91           True\n",
       "2        347.174610      4      1  2.69890  65.12           True\n",
       "3        372.169859      5      1  2.57058  88.91           True\n",
       "4        446.243024      5      1  2.67980  85.43           True"
      ]
     },
     "execution_count": 7,
     "metadata": {},
     "output_type": "execute_result"
    }
   ],
   "source": [
    "# Calculate RO5 properties\n",
    "ro5_properties = MoleculeDatabase[\"smiles\"].apply(calculate_ro5_properties)\n",
    "ro5_properties.head()"
   ]
  },
  {
   "cell_type": "markdown",
   "metadata": {
    "id": "ch0te47KiREV"
   },
   "source": [
    "Concatenate molecules with Ro5 data.\n"
   ]
  },
  {
   "cell_type": "code",
   "execution_count": 8,
   "metadata": {
    "colab": {
     "base_uri": "https://localhost:8080/",
     "height": 305
    },
    "executionInfo": {
     "elapsed": 6,
     "status": "ok",
     "timestamp": 1670953332713,
     "user": {
      "displayName": "Natalia Garcia",
      "userId": "02135217943488417203"
     },
     "user_tz": -60
    },
    "id": "MjQsksw2iREW",
    "outputId": "d146ac0b-8a05-43fb-c0ff-f440a9301f66"
   },
   "outputs": [
    {
     "data": {
      "text/html": [
       "<div>\n",
       "<style scoped>\n",
       "    .dataframe tbody tr th:only-of-type {\n",
       "        vertical-align: middle;\n",
       "    }\n",
       "\n",
       "    .dataframe tbody tr th {\n",
       "        vertical-align: top;\n",
       "    }\n",
       "\n",
       "    .dataframe thead th {\n",
       "        text-align: right;\n",
       "    }\n",
       "</style>\n",
       "<table border=\"1\" class=\"dataframe\">\n",
       "  <thead>\n",
       "    <tr style=\"text-align: right;\">\n",
       "      <th></th>\n",
       "      <th>rmsd</th>\n",
       "      <th>ID</th>\n",
       "      <th>smiles</th>\n",
       "      <th>molecular_weight</th>\n",
       "      <th>n_hba</th>\n",
       "      <th>n_hbd</th>\n",
       "      <th>logp</th>\n",
       "      <th>TPSA</th>\n",
       "      <th>ro5_fulfilled</th>\n",
       "    </tr>\n",
       "  </thead>\n",
       "  <tbody>\n",
       "    <tr>\n",
       "      <th>0</th>\n",
       "      <td>0.600831091</td>\n",
       "      <td>CHEMBL4285366</td>\n",
       "      <td>CN(c1ncnc2[nH]ccc12)[C@H]1CN(C(=O)c2ccncc2)CC1...</td>\n",
       "      <td>348.169859</td>\n",
       "      <td>5</td>\n",
       "      <td>1</td>\n",
       "      <td>2.09390</td>\n",
       "      <td>78.01</td>\n",
       "      <td>True</td>\n",
       "    </tr>\n",
       "    <tr>\n",
       "      <th>1</th>\n",
       "      <td>0.590329766</td>\n",
       "      <td>CHEMBL4293188</td>\n",
       "      <td>CN(c1ncnc2[nH]ccc12)[C@H]1CN(C(=O)c2cccc(C#N)c...</td>\n",
       "      <td>372.169859</td>\n",
       "      <td>5</td>\n",
       "      <td>1</td>\n",
       "      <td>2.57058</td>\n",
       "      <td>88.91</td>\n",
       "      <td>True</td>\n",
       "    </tr>\n",
       "    <tr>\n",
       "      <th>2</th>\n",
       "      <td>0.594331205</td>\n",
       "      <td>CHEMBL4290647</td>\n",
       "      <td>CN(c1ncnc2[nH]ccc12)[C@H]1CN(C(=O)c2ccccc2)CC1...</td>\n",
       "      <td>347.174610</td>\n",
       "      <td>4</td>\n",
       "      <td>1</td>\n",
       "      <td>2.69890</td>\n",
       "      <td>65.12</td>\n",
       "      <td>True</td>\n",
       "    </tr>\n",
       "    <tr>\n",
       "      <th>3</th>\n",
       "      <td>0.578193605</td>\n",
       "      <td>CHEMBL4292627</td>\n",
       "      <td>CN(c1ncnc2[nH]ccc12)[C@H]1CN(C(=O)c2ccc(C#N)cc...</td>\n",
       "      <td>372.169859</td>\n",
       "      <td>5</td>\n",
       "      <td>1</td>\n",
       "      <td>2.57058</td>\n",
       "      <td>88.91</td>\n",
       "      <td>True</td>\n",
       "    </tr>\n",
       "    <tr>\n",
       "      <th>4</th>\n",
       "      <td>0.180277705</td>\n",
       "      <td>CHEMBL1630793</td>\n",
       "      <td>C[C@H]1CCN(C(=O)[C@@H]2CCN(Cc3ccccc3)C2=O)C[C@...</td>\n",
       "      <td>446.243024</td>\n",
       "      <td>5</td>\n",
       "      <td>1</td>\n",
       "      <td>2.67980</td>\n",
       "      <td>85.43</td>\n",
       "      <td>True</td>\n",
       "    </tr>\n",
       "  </tbody>\n",
       "</table>\n",
       "</div>"
      ],
      "text/plain": [
       "          rmsd             ID  \\\n",
       "0  0.600831091  CHEMBL4285366   \n",
       "1  0.590329766  CHEMBL4293188   \n",
       "2  0.594331205  CHEMBL4290647   \n",
       "3  0.578193605  CHEMBL4292627   \n",
       "4  0.180277705  CHEMBL1630793   \n",
       "\n",
       "                                              smiles  molecular_weight  n_hba  \\\n",
       "0  CN(c1ncnc2[nH]ccc12)[C@H]1CN(C(=O)c2ccncc2)CC1...        348.169859      5   \n",
       "1  CN(c1ncnc2[nH]ccc12)[C@H]1CN(C(=O)c2cccc(C#N)c...        372.169859      5   \n",
       "2  CN(c1ncnc2[nH]ccc12)[C@H]1CN(C(=O)c2ccccc2)CC1...        347.174610      4   \n",
       "3  CN(c1ncnc2[nH]ccc12)[C@H]1CN(C(=O)c2ccc(C#N)cc...        372.169859      5   \n",
       "4  C[C@H]1CCN(C(=O)[C@@H]2CCN(Cc3ccccc3)C2=O)C[C@...        446.243024      5   \n",
       "\n",
       "   n_hbd     logp   TPSA  ro5_fulfilled  \n",
       "0      1  2.09390  78.01           True  \n",
       "1      1  2.57058  88.91           True  \n",
       "2      1  2.69890  65.12           True  \n",
       "3      1  2.57058  88.91           True  \n",
       "4      1  2.67980  85.43           True  "
      ]
     },
     "execution_count": 8,
     "metadata": {},
     "output_type": "execute_result"
    }
   ],
   "source": [
    "MoleculeDatabase = pd.concat([MoleculeDatabase, ro5_properties], axis=1)\n",
    "MoleculeDatabase.head()"
   ]
  },
  {
   "cell_type": "code",
   "execution_count": 9,
   "metadata": {
    "colab": {
     "base_uri": "https://localhost:8080/"
    },
    "executionInfo": {
     "elapsed": 2,
     "status": "ok",
     "timestamp": 1670953333091,
     "user": {
      "displayName": "Natalia Garcia",
      "userId": "02135217943488417203"
     },
     "user_tz": -60
    },
    "id": "qGhQ0t9oiREW",
    "outputId": "c14e3da2-d82f-417a-b3af-e9dbd85bcd39"
   },
   "outputs": [
    {
     "name": "stdout",
     "output_type": "stream",
     "text": [
      "# compounds in unfiltered data set: 38\n",
      "# compounds in filtered data set: 38\n",
      "# compounds not compliant with the Ro5: 0\n"
     ]
    }
   ],
   "source": [
    "# Note that the column \"ro5_fulfilled\" contains boolean values.\n",
    "# Thus, we can use the column values directly to subset data.\n",
    "# Note that ~ negates boolean values.\n",
    "MoleculeDatabase_ro5_fulfilled = MoleculeDatabase[MoleculeDatabase[\"ro5_fulfilled\"]]\n",
    "MoleculeDatabase_ro5_violated = MoleculeDatabase[~MoleculeDatabase[\"ro5_fulfilled\"]]\n",
    "\n",
    "print(f\"# compounds in unfiltered data set: {MoleculeDatabase.shape[0]}\")\n",
    "print(f\"# compounds in filtered data set: {MoleculeDatabase_ro5_fulfilled.shape[0]}\")\n",
    "print(f\"# compounds not compliant with the Ro5: {MoleculeDatabase_ro5_violated.shape[0]}\")"
   ]
  },
  {
   "cell_type": "markdown",
   "metadata": {
    "id": "h0D_U9bIiREW"
   },
   "source": [
    "\n",
    "### Visualize Ro5 properties (radar plot)\n",
    "Calculate statistics on Ro5 properties\n",
    "\n",
    "Define a helper function to calculate the mean and standard deviation for an input DataFrame.\n"
   ]
  },
  {
   "cell_type": "code",
   "execution_count": 10,
   "metadata": {
    "id": "wCOz5UyAiREX"
   },
   "outputs": [],
   "source": [
    "def calculate_mean_std(dataframe):\n",
    "    \"\"\"\n",
    "    Calculate the mean and standard deviation of a dataset.\n",
    "\n",
    "    \"\"\"\n",
    "    # Generate descriptive statistics for property columns\n",
    "    stats = dataframe.describe()\n",
    "    # Transpose DataFrame (statistical measures = columns)\n",
    "    stats = stats.T\n",
    "    # Select mean and standard deviation\n",
    "    stats = stats[[\"mean\", \"std\"]]\n",
    "    return stats"
   ]
  },
  {
   "cell_type": "markdown",
   "metadata": {
    "id": "rVrt1kQFiREX"
   },
   "source": [
    "We calculate the statistic for the dataset of compounds that are fulfilling the Ro5."
   ]
  },
  {
   "cell_type": "code",
   "execution_count": 11,
   "metadata": {
    "colab": {
     "base_uri": "https://localhost:8080/",
     "height": 206
    },
    "executionInfo": {
     "elapsed": 5,
     "status": "ok",
     "timestamp": 1670953342276,
     "user": {
      "displayName": "Natalia Garcia",
      "userId": "02135217943488417203"
     },
     "user_tz": -60
    },
    "id": "hGZuz3OriREX",
    "outputId": "77b62196-21d0-4fbf-d344-ec5d4dea9264"
   },
   "outputs": [
    {
     "data": {
      "text/html": [
       "<div>\n",
       "<style scoped>\n",
       "    .dataframe tbody tr th:only-of-type {\n",
       "        vertical-align: middle;\n",
       "    }\n",
       "\n",
       "    .dataframe tbody tr th {\n",
       "        vertical-align: top;\n",
       "    }\n",
       "\n",
       "    .dataframe thead th {\n",
       "        text-align: right;\n",
       "    }\n",
       "</style>\n",
       "<table border=\"1\" class=\"dataframe\">\n",
       "  <thead>\n",
       "    <tr style=\"text-align: right;\">\n",
       "      <th></th>\n",
       "      <th>mean</th>\n",
       "      <th>std</th>\n",
       "    </tr>\n",
       "  </thead>\n",
       "  <tbody>\n",
       "    <tr>\n",
       "      <th>molecular_weight</th>\n",
       "      <td>348.675751</td>\n",
       "      <td>42.251006</td>\n",
       "    </tr>\n",
       "    <tr>\n",
       "      <th>n_hba</th>\n",
       "      <td>4.552632</td>\n",
       "      <td>0.601681</td>\n",
       "    </tr>\n",
       "    <tr>\n",
       "      <th>n_hbd</th>\n",
       "      <td>1.657895</td>\n",
       "      <td>0.708112</td>\n",
       "    </tr>\n",
       "    <tr>\n",
       "      <th>logp</th>\n",
       "      <td>2.908656</td>\n",
       "      <td>0.766587</td>\n",
       "    </tr>\n",
       "    <tr>\n",
       "      <th>TPSA</th>\n",
       "      <td>81.603421</td>\n",
       "      <td>15.097568</td>\n",
       "    </tr>\n",
       "  </tbody>\n",
       "</table>\n",
       "</div>"
      ],
      "text/plain": [
       "                        mean        std\n",
       "molecular_weight  348.675751  42.251006\n",
       "n_hba               4.552632   0.601681\n",
       "n_hbd               1.657895   0.708112\n",
       "logp                2.908656   0.766587\n",
       "TPSA               81.603421  15.097568"
      ]
     },
     "execution_count": 11,
     "metadata": {},
     "output_type": "execute_result"
    }
   ],
   "source": [
    "MoleculeDatabase_ro5_fulfilled_stats = calculate_mean_std(\n",
    "    MoleculeDatabase_ro5_fulfilled[[\"molecular_weight\", \"n_hba\", \"n_hbd\", \"logp\", \"TPSA\"]]\n",
    ")\n",
    "MoleculeDatabase_ro5_fulfilled_stats"
   ]
  },
  {
   "cell_type": "markdown",
   "metadata": {
    "id": "vP9LCKdWiREY"
   },
   "source": [
    "We calculate the statistic for the dataset of compounds that are violating the Ro5."
   ]
  },
  {
   "cell_type": "code",
   "execution_count": 12,
   "metadata": {
    "colab": {
     "base_uri": "https://localhost:8080/",
     "height": 206
    },
    "executionInfo": {
     "elapsed": 353,
     "status": "ok",
     "timestamp": 1670953345432,
     "user": {
      "displayName": "Natalia Garcia",
      "userId": "02135217943488417203"
     },
     "user_tz": -60
    },
    "id": "VWLTwn5-iREY",
    "outputId": "6f092819-8da9-4a8e-8ce2-83827d183c50"
   },
   "outputs": [
    {
     "data": {
      "text/html": [
       "<div>\n",
       "<style scoped>\n",
       "    .dataframe tbody tr th:only-of-type {\n",
       "        vertical-align: middle;\n",
       "    }\n",
       "\n",
       "    .dataframe tbody tr th {\n",
       "        vertical-align: top;\n",
       "    }\n",
       "\n",
       "    .dataframe thead th {\n",
       "        text-align: right;\n",
       "    }\n",
       "</style>\n",
       "<table border=\"1\" class=\"dataframe\">\n",
       "  <thead>\n",
       "    <tr style=\"text-align: right;\">\n",
       "      <th></th>\n",
       "      <th>mean</th>\n",
       "      <th>std</th>\n",
       "    </tr>\n",
       "  </thead>\n",
       "  <tbody>\n",
       "    <tr>\n",
       "      <th>molecular_weight</th>\n",
       "      <td>NaN</td>\n",
       "      <td>NaN</td>\n",
       "    </tr>\n",
       "    <tr>\n",
       "      <th>n_hba</th>\n",
       "      <td>NaN</td>\n",
       "      <td>NaN</td>\n",
       "    </tr>\n",
       "    <tr>\n",
       "      <th>n_hbd</th>\n",
       "      <td>NaN</td>\n",
       "      <td>NaN</td>\n",
       "    </tr>\n",
       "    <tr>\n",
       "      <th>logp</th>\n",
       "      <td>NaN</td>\n",
       "      <td>NaN</td>\n",
       "    </tr>\n",
       "    <tr>\n",
       "      <th>TPSA</th>\n",
       "      <td>NaN</td>\n",
       "      <td>NaN</td>\n",
       "    </tr>\n",
       "  </tbody>\n",
       "</table>\n",
       "</div>"
      ],
      "text/plain": [
       "                  mean  std\n",
       "molecular_weight   NaN  NaN\n",
       "n_hba              NaN  NaN\n",
       "n_hbd              NaN  NaN\n",
       "logp               NaN  NaN\n",
       "TPSA               NaN  NaN"
      ]
     },
     "execution_count": 12,
     "metadata": {},
     "output_type": "execute_result"
    }
   ],
   "source": [
    "MoleculeDatabase_ro5_violated_stats = calculate_mean_std(\n",
    "    MoleculeDatabase_ro5_violated[[\"molecular_weight\", \"n_hba\", \"n_hbd\", \"logp\", \"TPSA\"]]\n",
    ")\n",
    "MoleculeDatabase_ro5_violated_stats"
   ]
  },
  {
   "cell_type": "markdown",
   "metadata": {
    "id": "wHoIbE3YiREY"
   },
   "source": [
    "\n",
    "*Define helper functions to prepare data for radar plotting*\n",
    "\n",
    "In the following, we will define a few helper functions that are only used for radar plotting.\n",
    "\n",
    "Prepare y values: The properties used for the Ro5 criteria are of different magnitudes. The MWT has a threshold of 500, whereas the number of HBAs and HBDs and the LogP have thresholds of only 10, 5, and 5, respectively. TPSA has a threshold of 140. In order to visualize these different scales most simplistically, we will scale all property values to a scaled threshold of 5:\n",
    "\n",
    "scaled property value = property value / property threshold * scaled property threshold\n",
    "\n",
    "    scaled MWT = MWT / 500 * 5 = MWT / 100\n",
    "    scaled HBA = HBA / 10 * 5 = HBA / 2\n",
    "    scaled HBD = HBD / 5 * 5 = HBD\n",
    "    scaled LogP = LogP / 5 * 5 = LogP\n",
    "    scaled TPSA = TPSA/140 *5 = TPSA / 28\n",
    "\n",
    "This results in a downscaling of the MWT by 100, HBA by 2, TPSA by 28, while HBD and LogP stay unchanged.\n",
    "\n",
    "The following helper function performs such a scaling and will be used later during radar plotting.\n"
   ]
  },
  {
   "cell_type": "code",
   "execution_count": 13,
   "metadata": {
    "id": "4YZWeG8HiREY"
   },
   "outputs": [],
   "source": [
    "def _scale_by_thresholds(stats, thresholds, scaled_threshold):\n",
    "    \"\"\"\n",
    "    Scale values for different properties that have each an individually defined threshold.\n",
    "\n",
    "    Parameters\n",
    "    ----------\n",
    "    stats : pd.DataFrame\n",
    "        Dataframe with \"mean\" and \"std\" (columns) for each physicochemical property (rows).\n",
    "    thresholds : dict of str: int\n",
    "        Thresholds defined for each property.\n",
    "    scaled_threshold : int or float\n",
    "        Scaled thresholds across all properties.\n",
    "\n",
    "    Returns\n",
    "    -------\n",
    "    pd.DataFrame\n",
    "        DataFrame with scaled means and standard deviations for each physiochemical property.\n",
    "    \"\"\"\n",
    "    # Raise error if scaling keys and data_stats indicies are not matching\n",
    "    for property_name in stats.index:\n",
    "        if property_name not in thresholds.keys():\n",
    "            raise KeyError(f\"Add property '{property_name}' to scaling variable.\")\n",
    "    # Scale property data\n",
    "    stats_scaled = stats.apply(lambda x: x / thresholds[x.name] * scaled_threshold, axis=1)\n",
    "    return stats_scaled"
   ]
  },
  {
   "cell_type": "markdown",
   "metadata": {
    "id": "ifWfiA_ZiREY"
   },
   "source": [
    "Prepare x values: The following helper function returns the angles of the physicochemical property axes for the radar chart. For example, if we want to generate a radar plot for 4 properties, we want to set the axes at 0°, 90°, 180°, and 270°. The helper function returns such angles as radians.\n"
   ]
  },
  {
   "cell_type": "code",
   "execution_count": 14,
   "metadata": {
    "id": "_O_dTGk0iREZ"
   },
   "outputs": [],
   "source": [
    "def _define_radial_axes_angles(n_axes):\n",
    "    \"\"\"Define angles (radians) for radial (x-)axes depending on the number of axes.\"\"\"\n",
    "    x_angles = [i / float(n_axes) * 2 * math.pi for i in range(n_axes)]\n",
    "    x_angles += x_angles[:1]\n",
    "    return x_angles"
   ]
  },
  {
   "cell_type": "markdown",
   "metadata": {
    "id": "I_jxifvniREZ"
   },
   "source": [
    "Both functions will be used as helper functions in the radar plotting function, which is defined next.\n",
    "### Generate radar plots, finally!\n",
    "\n",
    "Now, we define a function that visualizes the compounds' chemical properties in the form of a radar chart. We followed these instructions on stackoverflow.\n"
   ]
  },
  {
   "cell_type": "code",
   "execution_count": 26,
   "metadata": {
    "id": "G9sy4I9UiREZ"
   },
   "outputs": [],
   "source": [
    "def plot_radar(\n",
    "    y,\n",
    "    thresholds,\n",
    "    scaled_threshold,\n",
    "    properties_labels,\n",
    "    y_max=None,\n",
    "    output_path=None,\n",
    "):\n",
    "    \"\"\"\n",
    "    Plot a radar chart based on the mean and standard deviation of a data set's properties.\n",
    "\n",
    "    Parameters\n",
    "    ----------\n",
    "    y : pd.DataFrame\n",
    "        Dataframe with \"mean\" and \"std\" (columns) for each physicochemical property (rows).\n",
    "    thresholds : dict of str: int\n",
    "        Thresholds defined for each property.\n",
    "    scaled_threshold : int or float\n",
    "        Scaled thresholds across all properties.\n",
    "    properties_labels : list of str\n",
    "        List of property names to be used as labels in the plot.\n",
    "    y_max : None or int or float\n",
    "        Set maximum y value. If None, let matplotlib decide.\n",
    "    output_path : None or pathlib.Path\n",
    "        If not None, save plot to file.\n",
    "    \"\"\"\n",
    "\n",
    "    # Define radial x-axes angles -- uses our helper function!\n",
    "    x = _define_radial_axes_angles(len(y))\n",
    "    # Scale y-axis values with respect to a defined threshold -- uses our helper function!\n",
    "    y = _scale_by_thresholds(y, thresholds, scaled_threshold)\n",
    "    # Since our chart will be circular we append the first value of each property to the end\n",
    "    y = y.append(y.iloc[0])\n",
    "\n",
    "    # Set figure and subplot axis\n",
    "    plt.figure(figsize=(6, 6))\n",
    "    ax = plt.subplot(111, polar=True)\n",
    "\n",
    "    # Plot data\n",
    "    ax.fill(x, [scaled_threshold] * 6, \"cornflowerblue\", alpha=0.2)\n",
    "    ax.plot(x, y[\"mean\"], \"b\", lw=3, ls=\"-\")\n",
    "    ax.plot(x, y[\"mean\"] + y[\"std\"], \"orange\", lw=2, ls=\"--\")\n",
    "    ax.plot(x, y[\"mean\"] - y[\"std\"], \"orange\", lw=2, ls=\"-.\")\n",
    "\n",
    "    # From here on, we only do plot cosmetics\n",
    "    # Set 0° to 12 o'clock\n",
    "    ax.set_theta_offset(math.pi / 2)\n",
    "    # Set clockwise rotation\n",
    "    ax.set_theta_direction(-1)\n",
    "\n",
    "    # Set y-labels next to 180° radius axis\n",
    "    ax.set_rlabel_position(180)\n",
    "    # Set number of radial axes' ticks and remove labels\n",
    "    plt.xticks(x, [])\n",
    "    # Get maximal y-ticks value\n",
    "    if not y_max:\n",
    "        y_max = int(ax.get_yticks()[-1])\n",
    "    # Set axes limits\n",
    "    plt.ylim(0, y_max)\n",
    "    # Set number and labels of y axis ticks\n",
    "    plt.yticks(\n",
    "        range(1, y_max),\n",
    "        [\"5\" if i == scaled_threshold else \"\" for i in range(1, y_max)],\n",
    "        fontsize=16,\n",
    "    )\n",
    "\n",
    "    # Draw ytick labels to make sure they fit properly\n",
    "    # Note that we use [:1] to exclude the last element which equals the first element (not needed here)\n",
    "    for i, (angle, label) in enumerate(zip(x[:-1], properties_labels)):\n",
    "        if angle == 0:\n",
    "            ha = \"center\"\n",
    "        elif 0 < angle < math.pi:\n",
    "            ha = \"left\"\n",
    "        elif angle == math.pi:\n",
    "            ha = \"center\"\n",
    "        else:\n",
    "            ha = \"right\"\n",
    "        ax.text(\n",
    "            x=angle,\n",
    "            y=y_max + 1,\n",
    "            s=label,\n",
    "            size=16,\n",
    "            horizontalalignment=ha,\n",
    "            verticalalignment=\"center\",\n",
    "        )\n",
    "\n",
    "    # Add legend relative to top-left plot\n",
    "    labels = (\"rule of 5 area\", \"mean + std\", \"mean - std\", \"mean\")\n",
    "    ax.legend(labels, loc=(1.1, 0.7), labelspacing=0.3, fontsize=16)\n",
    "\n",
    "    # Save plot - use bbox_inches to include text boxes\n",
    "    if output_path:\n",
    "        plt.savefig(output_path, dpi=300, bbox_inches=\"tight\", transparent=True)\n",
    "\n",
    "    plt.show()"
   ]
  },
  {
   "cell_type": "markdown",
   "metadata": {
    "id": "i7fZXHCMiREa"
   },
   "source": [
    "\n",
    "In the following, we want to plot the radar chart for our two datasets:\n",
    "\n",
    "    Compounds that fulfill the Ro5\n",
    "    Compounds that violate the Ro5\n",
    "\n",
    "Define input parameters that should stay the same for both radar charts:\n"
   ]
  },
  {
   "cell_type": "code",
   "execution_count": 27,
   "metadata": {
    "id": "-mmRvaRHiREa"
   },
   "outputs": [],
   "source": [
    "thresholds = {\"molecular_weight\": 500, \"n_hba\": 10, \"n_hbd\": 5, \"logp\": 5, \"TPSA\":140}\n",
    "scaled_threshold = 5\n",
    "properties_labels = [\n",
    "    \"Molecular weight (Da) / 100\",\n",
    "    \"# HBA / 2\",\n",
    "    \"# HBD\",\n",
    "    \"LogP\",\n",
    "    \"TPSA / 28\"\n",
    "]\n",
    "y_max = 8"
   ]
  },
  {
   "cell_type": "markdown",
   "metadata": {
    "id": "x3G7bsWqiREa"
   },
   "source": [
    "We plot the radarplot for the dataset of compounds that fulfill the Ro5."
   ]
  },
  {
   "cell_type": "code",
   "execution_count": 28,
   "metadata": {
    "colab": {
     "base_uri": "https://localhost:8080/",
     "height": 385
    },
    "executionInfo": {
     "elapsed": 817,
     "status": "ok",
     "timestamp": 1670953369157,
     "user": {
      "displayName": "Natalia Garcia",
      "userId": "02135217943488417203"
     },
     "user_tz": -60
    },
    "id": "zsPnLlBAiREa",
    "outputId": "1129d001-ee9f-49be-a15d-c55cb2de64bd"
   },
   "outputs": [
    {
     "name": "stderr",
     "output_type": "stream",
     "text": [
      "C:\\Users\\anaso\\AppData\\Local\\Temp\\ipykernel_46140\\2157821807.py:33: FutureWarning: The frame.append method is deprecated and will be removed from pandas in a future version. Use pandas.concat instead.\n",
      "  y = y.append(y.iloc[0])\n"
     ]
    },
    {
     "data": {
      "image/png": "[encoded data removed]",
      "text/plain": [
       "<Figure size 432x432 with 1 Axes>"
      ]
     },
     "metadata": {
      "needs_background": "light"
     },
     "output_type": "display_data"
    }
   ],
   "source": [
    "plot_radar(\n",
    "    MoleculeDatabase_ro5_fulfilled_stats,\n",
    "    thresholds,\n",
    "    scaled_threshold,\n",
    "    properties_labels,\n",
    "    y_max,\n",
    "    output_path=\"./Figures/radarPlot\"\n",
    ")"
   ]
  },
  {
   "cell_type": "markdown",
   "metadata": {
    "id": "G0soL8nNiREb"
   },
   "source": [
    "The blue square shows the area where a molecule's physicochemical properties are compliant with the Ro5. The blue line highlights the mean values, while the orange dashed lines show the standard deviations. We can see that the mean values never violate any of Lipinski's rules. However, according to the standard deviation, some properties have larger values then the Ro5 thresholds. This is acceptable because, according to the Ro5, one of the four rules can be violated.\n",
    "\n",
    "    We plot the radarplot for the dataset of compounds that violate the Ro5.\n",
    "\n"
   ]
  },
  {
   "cell_type": "code",
   "execution_count": 29,
   "metadata": {
    "colab": {
     "base_uri": "https://localhost:8080/",
     "height": 385
    },
    "executionInfo": {
     "elapsed": 786,
     "status": "ok",
     "timestamp": 1670953391729,
     "user": {
      "displayName": "Natalia Garcia",
      "userId": "02135217943488417203"
     },
     "user_tz": -60
    },
    "id": "R79GK08OiREb",
    "outputId": "a199611f-57e6-49b6-ec31-b8f9da826a15"
   },
   "outputs": [
    {
     "name": "stderr",
     "output_type": "stream",
     "text": [
      "C:\\Users\\anaso\\AppData\\Local\\Temp\\ipykernel_46140\\2157821807.py:33: FutureWarning: The frame.append method is deprecated and will be removed from pandas in a future version. Use pandas.concat instead.\n",
      "  y = y.append(y.iloc[0])\n"
     ]
    },
    {
     "data": {
      "image/png": "[encoded data removed]",
      "text/plain": [
       "<Figure size 432x432 with 1 Axes>"
      ]
     },
     "metadata": {
      "needs_background": "light"
     },
     "output_type": "display_data"
    }
   ],
   "source": [
    "plot_radar(\n",
    "    MoleculeDatabase_ro5_violated_stats,\n",
    "    thresholds,\n",
    "    scaled_threshold,\n",
    "    properties_labels,\n",
    "    y_max,\n",
    ")"
   ]
  },
  {
   "cell_type": "markdown",
   "metadata": {
    "id": "LXCmpvdsiREb"
   },
   "source": [
    "We see that compounds mostly violate the Ro5 because of their logP values and their molecular weight.\n"
   ]
  },
  {
   "cell_type": "markdown",
   "metadata": {
    "id": "swMbDrs3iREb"
   },
   "source": [
    "Plotting histograms"
   ]
  },
  {
   "cell_type": "code",
   "execution_count": 30,
   "metadata": {
    "colab": {
     "base_uri": "https://localhost:8080/",
     "height": 390
    },
    "executionInfo": {
     "elapsed": 1345,
     "status": "ok",
     "timestamp": 1670953397136,
     "user": {
      "displayName": "Natalia Garcia",
      "userId": "02135217943488417203"
     },
     "user_tz": -60
    },
    "id": "glc4rJvPiREb",
    "outputId": "1a5d438f-6a78-40dd-8e15-3f86307975a1"
   },
   "outputs": [
    {
     "data": {
      "image/png": "[encoded data removed]",
      "text/plain": [
       "<Figure size 720x432 with 6 Axes>"
      ]
     },
     "metadata": {
      "needs_background": "light"
     },
     "output_type": "display_data"
    }
   ],
   "source": [
    "fig, axes = plt.subplots(figsize=(10, 6), nrows=2, ncols=3)\n",
    "MoleculeDatabase_ro5_fulfilled.hist([\"molecular_weight\"], ax=axes[0, 0])\n",
    "MoleculeDatabase_ro5_fulfilled.hist([\"n_hba\"], ax=axes[0, 1])\n",
    "MoleculeDatabase_ro5_fulfilled.hist([\"n_hbd\"], ax=axes[1, 0])\n",
    "MoleculeDatabase_ro5_fulfilled.hist([\"logp\"], ax=axes[1, 1])\n",
    "MoleculeDatabase_ro5_fulfilled.hist([\"TPSA\"], ax=axes[0, 2])\n",
    "fig;\n",
    "plt.savefig('./Figures/Ro5Hist.png')"
   ]
  },
  {
   "cell_type": "code",
   "execution_count": null,
   "metadata": {},
   "outputs": [],
   "source": []
  }
 ],
 "metadata": {
  "colab": {
   "provenance": []
  },
  "kernelspec": {
   "display_name": "Python 3 (ipykernel)",
   "language": "python",
   "name": "python3"
  },
  "language_info": {
   "codemirror_mode": {
    "name": "ipython",
    "version": 3
   },
   "file_extension": ".py",
   "mimetype": "text/x-python",
   "name": "python",
   "nbconvert_exporter": "python",
   "pygments_lexer": "ipython3",
   "version": "3.9.12"
  }
 },
 "nbformat": 4,
 "nbformat_minor": 1
}
